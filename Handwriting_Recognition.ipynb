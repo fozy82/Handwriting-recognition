{
  "nbformat": 4,
  "nbformat_minor": 0,
  "metadata": {
    "colab": {
      "provenance": [],
      "include_colab_link": true
    },
    "kernelspec": {
      "name": "python3",
      "display_name": "Python 3"
    },
    "language_info": {
      "name": "python"
    },
    "accelerator": "GPU"
  },
  "cells": [
    {
      "cell_type": "markdown",
      "metadata": {
        "id": "view-in-github",
        "colab_type": "text"
      },
      "source": [
        "<a href=\"https://colab.research.google.com/github/fozy82/Handwriting-recognition/blob/main/Handwriting_Recognition.ipynb\" target=\"_parent\"><img src=\"https://colab.research.google.com/assets/colab-badge.svg\" alt=\"Open In Colab\"/></a>"
      ]
    },
    {
      "cell_type": "code",
      "execution_count": null,
      "metadata": {
        "id": "4Hrgz4LG625i"
      },
      "outputs": [],
      "source": [
        "#importing libraries.\n",
        "import keras\n",
        "from keras.datasets import mnist\n",
        "from keras.models import Sequential\n",
        "from keras.layers import Conv2D\n",
        "from keras.layers import MaxPooling2D\n",
        "from keras.layers import Dense\n",
        "from keras.layers import Dropout\n",
        "from keras.layers import Flatten\n",
        "from keras.losses import categorical_crossentropy\n",
        "from keras.utils import np_utils"
      ]
    },
    {
      "cell_type": "code",
      "source": [
        "#Loading the dataset and splitting it into test and train.\n",
        "(x_train, y_train), (x_test, y_test) = mnist.load_data()"
      ],
      "metadata": {
        "id": "AMZh4kMitzOx",
        "colab": {
          "base_uri": "https://localhost:8080/"
        },
        "outputId": "bb56cce3-6525-49c4-dcf8-ba18144054d4"
      },
      "execution_count": null,
      "outputs": [
        {
          "output_type": "stream",
          "name": "stdout",
          "text": [
            "Downloading data from https://storage.googleapis.com/tensorflow/tf-keras-datasets/mnist.npz\n",
            "11493376/11490434 [==============================] - 0s 0us/step\n",
            "11501568/11490434 [==============================] - 0s 0us/step\n"
          ]
        }
      ]
    },
    {
      "cell_type": "code",
      "source": [
        "#reshaping the image in the form it is there.\n",
        "x_train = x_train.reshape(x_train.shape[0], 28, 28, 1)\n",
        "x_test = x_test.reshape(x_test.shape[0], 28, 28, 1)\n",
        "input_shape = (28, 28, 1)\n",
        "\n",
        "y_train = keras.utils.np_utils.to_categorical(y_train, 10)\n",
        "y_test = keras.utils.np_utils.to_categorical(y_test, 10)\n",
        "\n"
      ],
      "metadata": {
        "id": "7lDtwEQ5uQ62"
      },
      "execution_count": null,
      "outputs": []
    },
    {
      "cell_type": "code",
      "source": [
        "#Dividing by 255 because the maximum pixel is 255 and dividing by 255 will give a small range of [0,1].\n",
        "x_train = x_train.astype('float32')\n",
        "x_test = x_test.astype('float32')\n",
        "x_train /= 255\n",
        "x_test /= 255\n"
      ],
      "metadata": {
        "id": "5bEs4vg9uQ93"
      },
      "execution_count": null,
      "outputs": []
    },
    {
      "cell_type": "code",
      "source": [
        "#Building of CNN.\n",
        "model = Sequential()"
      ],
      "metadata": {
        "id": "iJQDrhCKuRAg"
      },
      "execution_count": null,
      "outputs": []
    },
    {
      "cell_type": "code",
      "source": [
        "#Adding the first convoluted layer with a 5 x 5 feature detector.\n",
        "model.add(Conv2D(32, kernel_size=(5, 5),activation='relu',input_shape=input_shape))"
      ],
      "metadata": {
        "id": "F1pbD_p1uRDI"
      },
      "execution_count": null,
      "outputs": []
    },
    {
      "cell_type": "code",
      "source": [
        "#Adding a pooling layer with a kernel of 3 x 3.\n",
        "model.add(MaxPooling2D(pool_size=(3, 3)))"
      ],
      "metadata": {
        "id": "NQUKK8ewwjuh"
      },
      "execution_count": null,
      "outputs": []
    },
    {
      "cell_type": "code",
      "source": [
        "#Adding the second convoluted layer and pooling layer.\n",
        "model.add(Conv2D(64, (4, 4), activation='relu'))\n",
        "model.add(MaxPooling2D(pool_size=(2, 2)))"
      ],
      "metadata": {
        "id": "6PrRDTmlwjy0"
      },
      "execution_count": null,
      "outputs": []
    },
    {
      "cell_type": "code",
      "source": [
        "#Making of the fully connected layer.\n",
        "model.add(Flatten())"
      ],
      "metadata": {
        "id": "SiKbI0EDwj2L"
      },
      "execution_count": null,
      "outputs": []
    },
    {
      "cell_type": "code",
      "source": [
        "#Adding the first hidden layer.\n",
        "model.add(Dense(128, activation='relu'))"
      ],
      "metadata": {
        "id": "h2Ho6IFBuRFz"
      },
      "execution_count": null,
      "outputs": []
    },
    {
      "cell_type": "code",
      "source": [
        "#Adding a dropout of 0.3, to prevent overfitting.\n",
        "model.add(Dropout(0.3))"
      ],
      "metadata": {
        "id": "4HHGKwUUuRNE"
      },
      "execution_count": null,
      "outputs": []
    },
    {
      "cell_type": "code",
      "source": [
        "#Adding second hidden layer.\n",
        "model.add(Dense(64, activation='relu'))\n",
        "model.add(Dropout(0.5))"
      ],
      "metadata": {
        "id": "EwU0G4LxwuPO"
      },
      "execution_count": null,
      "outputs": []
    },
    {
      "cell_type": "code",
      "source": [
        "#Using softmax function because we need probabilistic output for each class.\n",
        "model.add(Dense(10, activation='softmax'))"
      ],
      "metadata": {
        "id": "9gzDRb4lwuR1"
      },
      "execution_count": null,
      "outputs": []
    },
    {
      "cell_type": "code",
      "source": [
        "#compiling of the model.\n",
        "model.compile(loss=categorical_crossentropy,optimizer=\"adam\",metrics=['accuracy'])"
      ],
      "metadata": {
        "id": "oYFvCcCVwuUp"
      },
      "execution_count": null,
      "outputs": []
    },
    {
      "cell_type": "code",
      "source": [
        "#Saving of the model.\n",
        "digit_recognition = model.fit(x_train, y_train,batch_size=100,epochs=15,verbose=1,validation_data=(x_test, y_test))\n",
        "print(\"The model has successfully trained\")"
      ],
      "metadata": {
        "colab": {
          "base_uri": "https://localhost:8080/"
        },
        "id": "a8Mppk2bwuXL",
        "outputId": "256f55c8-da77-463b-8157-723a87d9ce9b"
      },
      "execution_count": null,
      "outputs": [
        {
          "output_type": "stream",
          "name": "stdout",
          "text": [
            "Epoch 1/15\n",
            "600/600 [==============================] - 15s 4ms/step - loss: 0.4560 - accuracy: 0.8564 - val_loss: 0.0700 - val_accuracy: 0.9798\n",
            "Epoch 2/15\n",
            "600/600 [==============================] - 2s 4ms/step - loss: 0.1194 - accuracy: 0.9679 - val_loss: 0.0584 - val_accuracy: 0.9840\n",
            "Epoch 3/15\n",
            "600/600 [==============================] - 2s 4ms/step - loss: 0.0853 - accuracy: 0.9776 - val_loss: 0.0493 - val_accuracy: 0.9862\n",
            "Epoch 4/15\n",
            "600/600 [==============================] - 2s 4ms/step - loss: 0.0652 - accuracy: 0.9831 - val_loss: 0.0403 - val_accuracy: 0.9882\n",
            "Epoch 5/15\n",
            "600/600 [==============================] - 2s 4ms/step - loss: 0.0546 - accuracy: 0.9858 - val_loss: 0.0418 - val_accuracy: 0.9880\n",
            "Epoch 6/15\n",
            "600/600 [==============================] - 2s 4ms/step - loss: 0.0473 - accuracy: 0.9877 - val_loss: 0.0414 - val_accuracy: 0.9890\n",
            "Epoch 7/15\n",
            "600/600 [==============================] - 2s 4ms/step - loss: 0.0426 - accuracy: 0.9890 - val_loss: 0.0328 - val_accuracy: 0.9913\n",
            "Epoch 8/15\n",
            "600/600 [==============================] - 2s 4ms/step - loss: 0.0362 - accuracy: 0.9904 - val_loss: 0.0365 - val_accuracy: 0.9908\n",
            "Epoch 9/15\n",
            "600/600 [==============================] - 2s 4ms/step - loss: 0.0331 - accuracy: 0.9911 - val_loss: 0.0355 - val_accuracy: 0.9916\n",
            "Epoch 10/15\n",
            "600/600 [==============================] - 2s 4ms/step - loss: 0.0296 - accuracy: 0.9922 - val_loss: 0.0331 - val_accuracy: 0.9917\n",
            "Epoch 11/15\n",
            "600/600 [==============================] - 2s 4ms/step - loss: 0.0255 - accuracy: 0.9935 - val_loss: 0.0337 - val_accuracy: 0.9919\n",
            "Epoch 12/15\n",
            "600/600 [==============================] - 2s 4ms/step - loss: 0.0227 - accuracy: 0.9934 - val_loss: 0.0355 - val_accuracy: 0.9934\n",
            "Epoch 13/15\n",
            "600/600 [==============================] - 2s 4ms/step - loss: 0.0214 - accuracy: 0.9942 - val_loss: 0.0357 - val_accuracy: 0.9923\n",
            "Epoch 14/15\n",
            "600/600 [==============================] - 3s 4ms/step - loss: 0.0207 - accuracy: 0.9945 - val_loss: 0.0383 - val_accuracy: 0.9914\n",
            "Epoch 15/15\n",
            "600/600 [==============================] - 2s 4ms/step - loss: 0.0202 - accuracy: 0.9944 - val_loss: 0.0328 - val_accuracy: 0.9931\n",
            "The model has successfully trained\n"
          ]
        }
      ]
    },
    {
      "cell_type": "code",
      "source": [
        "#Printing the test accuracy and the test loss.\n",
        "score = model.evaluate(x_test, y_test, verbose=0)\n",
        "print('Test loss:', score[0])\n",
        "print('Test accuracy:', score[1])"
      ],
      "metadata": {
        "id": "vsQnc5cjwuZd",
        "colab": {
          "base_uri": "https://localhost:8080/"
        },
        "outputId": "8ea87b07-16b1-4bf3-cd1e-2f9791877c98"
      },
      "execution_count": null,
      "outputs": [
        {
          "output_type": "stream",
          "name": "stdout",
          "text": [
            "Test loss: 0.03275257349014282\n",
            "Test accuracy: 0.9930999875068665\n"
          ]
        }
      ]
    },
    {
      "cell_type": "code",
      "source": [
        "model.save('digit_recognition.h5')\n",
        "print(\"Saving the model as digit_recognition.h5\")"
      ],
      "metadata": {
        "colab": {
          "base_uri": "https://localhost:8080/"
        },
        "id": "aMJow9H-XC_2",
        "outputId": "e16c8811-093c-42dd-8475-7ca7508c733f"
      },
      "execution_count": null,
      "outputs": [
        {
          "output_type": "stream",
          "name": "stdout",
          "text": [
            "Saving the model as digit_recognition.h5\n"
          ]
        }
      ]
    },
    {
      "cell_type": "code",
      "source": [
        "import tensorflow as tf\n",
        "from keras.models import load_model\n",
        "import cv2\n",
        "import numpy as np\n",
        "\n",
        "classes=[0,1,2,3,4,5,6,7,8,9]\n",
        "\n",
        "model=tf.keras.models.load_model('digit_recognition.h5')\n",
        "def testing():\n",
        "    img=cv2.imread('image.png',0)\n",
        "    img=cv2.bitwise_not(img)\n",
        "    img=cv2.resize(img,(28,28))\n",
        "    img=img.reshape(1,28,28,1)\n",
        "    img=img.astype('float32')\n",
        "    img=img/255.0\n",
        "\n",
        "    pred=model.predict(img)\n",
        "    return pred"
      ],
      "metadata": {
        "id": "eFOiT_12Wn23"
      },
      "execution_count": 3,
      "outputs": []
    }
  ]
}